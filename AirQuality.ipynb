{
 "cells": [
  {
   "cell_type": "code",
   "execution_count": 4,
   "metadata": {},
   "outputs": [
    {
     "name": "stdout",
     "output_type": "stream",
     "text": [
      "3.141.0\n"
     ]
    }
   ],
   "source": [
    "import selenium as selenium\n",
    "print(selenium.__version__)\n",
    "from selenium import webdriver\n",
    "from selenium.webdriver.chrome.service import Service as ChromeService\n",
    "from webdriver_manager.chrome import ChromeDriverManager\n",
    "from selenium.webdriver.common.by import By\n",
    "from selenium.webdriver.support import expected_conditions as EC\n",
    "from selenium.webdriver.support.ui import WebDriverWait, Select\n",
    "from selenium.webdriver.common.keys import Keys\n",
    "import subprocess\n",
    "import json\n",
    "import time as time"
   ]
  },
  {
   "cell_type": "code",
   "execution_count": 24,
   "metadata": {},
   "outputs": [],
   "source": [
    "driver = webdriver.Chrome('../chromedriver_linux64/chromedriver')\n",
    "\n",
    "# For selenium 4, refer to the link to launch the webdriver: https://pypi.org/project/webdriver-manager/"
   ]
  },
  {
   "cell_type": "code",
   "execution_count": 25,
   "metadata": {},
   "outputs": [],
   "source": [
    "driver.get('https://www.epa.gov/outdoor-air-quality-data/download-daily-data')"
   ]
  },
  {
   "cell_type": "code",
   "execution_count": 9,
   "metadata": {},
   "outputs": [
    {
     "name": "stdout",
     "output_type": "stream",
     "text": [
      "['CO', 'Pb', 'NO2', 'Ozone', 'PM10', 'PM2.5', 'SO2']\n"
     ]
    }
   ],
   "source": [
    "f = open('polltant_names.json')\n",
    "print(json.load(f))"
   ]
  },
  {
   "cell_type": "code",
   "execution_count": 10,
   "metadata": {},
   "outputs": [
    {
     "name": "stdout",
     "output_type": "stream",
     "text": [
      "['Alabama', 'Alaska', 'Arizona', 'Arkansas', 'California', 'Colorado', 'Connecticut', 'Delaware', 'District of Columbia', 'Florida', 'Georgia', 'Hawaii', 'Idaho', 'Illinois', 'Indiana', 'Iowa', 'Kansas', 'Kentucky', 'Louisiana', 'Maryland', 'Massachusetts', 'Michigan', 'Minnesota', 'Mississippi', 'Missouri', 'Montana', 'Nebraska', 'Nevada', 'New Hampshire', 'New Jersey', 'New Mexico', 'New York', 'North Carolina', 'Ohio', 'Oklahoma', 'Oregon', 'Pennsylvania', 'Rhode Island', 'South Carolina', 'Tennessee', 'Texas', 'Utah', 'Vermont', 'Virginia', 'Washington', 'West Virginia', 'Wisconsin', 'Puerto Rico']\n"
     ]
    }
   ],
   "source": [
    "f = open('state_names.json')\n",
    "print(json.load(f))"
   ]
  },
  {
   "cell_type": "code",
   "execution_count": 31,
   "metadata": {},
   "outputs": [],
   "source": [
    "selected_pollutant='SO2'\n",
    "selected_state='Illinois'"
   ]
  },
  {
   "cell_type": "code",
   "execution_count": 33,
   "metadata": {},
   "outputs": [],
   "source": [
    "# This cell will automatically download the CSV formatted data for the selected pollutant and state, for all available years\n",
    "\n",
    "driver.refresh()\n",
    "\n",
    "subprocess.run(['mkdir DataAQ/{}-{}'.format(selected_pollutant,selected_state)],shell=True)\n",
    "\n",
    "select = Select(driver.find_element(By.NAME,'poll'))\n",
    "pollutants=select.options\n",
    "\n",
    "pollutant_names=[]\n",
    "for p in pollutants:\n",
    "    pollutant_names.append(p.text)\n",
    "\n",
    "p_index=pollutant_names.index(selected_pollutant)\n",
    "\n",
    "for p in range(p_index,p_index+1):\n",
    "\n",
    "    select = Select(driver.find_element(By.NAME,'poll'))\n",
    "    select.select_by_index(p)\n",
    "    pollutant=select.first_selected_option.text\n",
    "    time.sleep(2)\n",
    "\n",
    "    select = Select(driver.find_element(By.NAME,'year'))\n",
    "    years=select.options\n",
    "\n",
    "    print(f'Data available from {years[2].text} to {years[-1].text}')\n",
    "\n",
    "    for y in range(2,len(years)):\n",
    "\n",
    "        select = Select(driver.find_element(By.NAME,'year'))\n",
    "        select.select_by_index(y)\n",
    "        year=select.first_selected_option.text\n",
    "        time.sleep(2)\n",
    "\n",
    "        select = Select(driver.find_element(By.NAME,'state'))\n",
    "        states=select.options\n",
    "\n",
    "        state_names=[]\n",
    "        for s in states:\n",
    "            state_names.append(s.text)\n",
    "\n",
    "        s_index=state_names.index(selected_state)\n",
    "\n",
    "        for s in range(s_index,s_index+1):\n",
    "\n",
    "            select = Select(driver.find_element(By.NAME,'state'))\n",
    "            select.select_by_index(s)\n",
    "            state=select.first_selected_option.text\n",
    "            time.sleep(2)\n",
    "\n",
    "            driver.find_element(By.XPATH,'//*[@id=\"launch\"]/input').click()  \n",
    "            time.sleep(10)\n",
    "            driver.find_element(By.PARTIAL_LINK_TEXT,'CSV').click()\n",
    "            time.sleep(10)\n",
    "\n",
    "            name=str(pollutant)+'-'+str(state)+'-'+str(year)\n",
    "            subprocess.run(['mv ../ad_viz_plotval_data.csv DataAQ/{}-{}/{}'.format(selected_pollutant,selected_state,name)],shell=True) \n",
    "            print(f'{pollutant}-{year}-{state}')"
   ]
  },
  {
   "cell_type": "code",
   "execution_count": null,
   "metadata": {},
   "outputs": [],
   "source": []
  }
 ],
 "metadata": {
  "kernelspec": {
   "display_name": "TimeSeries",
   "language": "python",
   "name": "python3"
  },
  "language_info": {
   "codemirror_mode": {
    "name": "ipython",
    "version": 3
   },
   "file_extension": ".py",
   "mimetype": "text/x-python",
   "name": "python",
   "nbconvert_exporter": "python",
   "pygments_lexer": "ipython3",
   "version": "3.9.15"
  },
  "orig_nbformat": 4,
  "vscode": {
   "interpreter": {
    "hash": "3c362e28a548e1c7716e964a137da03120734da773b959e25d73340991057aab"
   }
  }
 },
 "nbformat": 4,
 "nbformat_minor": 2
}
