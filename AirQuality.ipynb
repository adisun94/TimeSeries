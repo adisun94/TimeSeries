{
 "cells": [
  {
   "cell_type": "code",
   "execution_count": 100,
   "metadata": {},
   "outputs": [],
   "source": [
    "from selenium import webdriver\n",
    "from selenium.webdriver.chrome.service import Service as ChromeService\n",
    "from webdriver_manager.chrome import ChromeDriverManager\n",
    "from selenium.webdriver.common.by import By\n",
    "from selenium.webdriver.support import expected_conditions as EC\n",
    "from selenium.webdriver.support.ui import WebDriverWait, Select\n",
    "from selenium.webdriver.common.keys import Keys\n",
    "import subprocess\n",
    "import json\n",
    "import time as time"
   ]
  },
  {
   "cell_type": "code",
   "execution_count": 103,
   "metadata": {},
   "outputs": [],
   "source": [
    "driver = webdriver.Chrome('../chromedriver_linux64/chromedriver')"
   ]
  },
  {
   "cell_type": "code",
   "execution_count": 104,
   "metadata": {},
   "outputs": [],
   "source": [
    "driver.get('https://www.epa.gov/outdoor-air-quality-data/download-daily-data')"
   ]
  },
  {
   "cell_type": "code",
   "execution_count": 97,
   "metadata": {},
   "outputs": [
    {
     "name": "stdout",
     "output_type": "stream",
     "text": [
      "['CO', 'Pb', 'NO2', 'Ozone', 'PM10', 'PM2.5', 'SO2']\n"
     ]
    }
   ],
   "source": [
    "f = open('polltant_names.json')\n",
    "print(json.load(f))"
   ]
  },
  {
   "cell_type": "code",
   "execution_count": 98,
   "metadata": {},
   "outputs": [
    {
     "name": "stdout",
     "output_type": "stream",
     "text": [
      "['Alabama', 'Alaska', 'Arizona', 'Arkansas', 'California', 'Colorado', 'Connecticut', 'Delaware', 'District of Columbia', 'Florida', 'Georgia', 'Hawaii', 'Idaho', 'Illinois', 'Indiana', 'Iowa', 'Kansas', 'Kentucky', 'Louisiana', 'Maryland', 'Massachusetts', 'Michigan', 'Minnesota', 'Mississippi', 'Missouri', 'Montana', 'Nebraska', 'Nevada', 'New Hampshire', 'New Jersey', 'New Mexico', 'New York', 'North Carolina', 'Ohio', 'Oklahoma', 'Oregon', 'Pennsylvania', 'Rhode Island', 'South Carolina', 'Tennessee', 'Texas', 'Utah', 'Vermont', 'Virginia', 'Washington', 'West Virginia', 'Wisconsin', 'Puerto Rico']\n"
     ]
    }
   ],
   "source": [
    "f = open('state_names.json')\n",
    "print(json.load(f))"
   ]
  },
  {
   "cell_type": "code",
   "execution_count": 101,
   "metadata": {},
   "outputs": [],
   "source": [
    "selected_pollutant='CO'\n",
    "selected_state='Illinois'"
   ]
  },
  {
   "cell_type": "code",
   "execution_count": 102,
   "metadata": {},
   "outputs": [
    {
     "name": "stdout",
     "output_type": "stream",
     "text": [
      "Data available from 2022 to 1980\n",
      "CO-2022-Illinois\n",
      "CO-2021-Illinois\n",
      "CO-2020-Illinois\n",
      "CO-2019-Illinois\n",
      "CO-2018-Illinois\n",
      "CO-2017-Illinois\n",
      "CO-2016-Illinois\n",
      "CO-2015-Illinois\n",
      "CO-2014-Illinois\n",
      "CO-2013-Illinois\n",
      "CO-2012-Illinois\n",
      "CO-2011-Illinois\n",
      "CO-2010-Illinois\n",
      "CO-2009-Illinois\n",
      "CO-2008-Illinois\n",
      "CO-2007-Illinois\n",
      "CO-2006-Illinois\n",
      "CO-2005-Illinois\n",
      "CO-2004-Illinois\n",
      "CO-2003-Illinois\n",
      "CO-2002-Illinois\n",
      "CO-2001-Illinois\n",
      "CO-2000-Illinois\n",
      "CO-1999-Illinois\n",
      "CO-1998-Illinois\n",
      "CO-1997-Illinois\n",
      "CO-1996-Illinois\n",
      "CO-1995-Illinois\n",
      "CO-1994-Illinois\n",
      "CO-1993-Illinois\n",
      "CO-1992-Illinois\n",
      "CO-1991-Illinois\n",
      "CO-1990-Illinois\n",
      "CO-1989-Illinois\n",
      "CO-1988-Illinois\n",
      "CO-1987-Illinois\n",
      "CO-1986-Illinois\n",
      "CO-1985-Illinois\n",
      "CO-1984-Illinois\n",
      "CO-1983-Illinois\n",
      "CO-1982-Illinois\n",
      "CO-1981-Illinois\n",
      "CO-1980-Illinois\n"
     ]
    }
   ],
   "source": [
    "driver.refresh()\n",
    "\n",
    "select = Select(driver.find_element(By.NAME,'poll'))\n",
    "pollutants=select.options\n",
    "\n",
    "pollutant_names=[]\n",
    "for p in pollutants:\n",
    "    pollutant_names.append(p.text)\n",
    "\n",
    "p_index=pollutant_names.index(selected_pollutant)\n",
    "\n",
    "for p in range(p_index,p_index+1):\n",
    "\n",
    "    select = Select(driver.find_element(By.NAME,'poll'))\n",
    "    select.select_by_index(p)\n",
    "    pollutant=select.first_selected_option.text\n",
    "    time.sleep(1)\n",
    "\n",
    "    select = Select(driver.find_element(By.NAME,'year'))\n",
    "    years=select.options\n",
    "\n",
    "    print(f'Data available from {years[2].text} to {years[-1].text}')\n",
    "\n",
    "    for y in range(2,len(years)):\n",
    "\n",
    "        select = Select(driver.find_element(By.NAME,'year'))\n",
    "        select.select_by_index(y)\n",
    "        year=select.first_selected_option.text\n",
    "        time.sleep(1)\n",
    "\n",
    "        select = Select(driver.find_element(By.NAME,'state'))\n",
    "        states=select.options\n",
    "\n",
    "        state_names=[]\n",
    "        for s in states:\n",
    "            state_names.append(s.text)\n",
    "\n",
    "        s_index=state_names.index(selected_state)\n",
    "\n",
    "        for s in range(s_index,s_index+1):\n",
    "\n",
    "            select = Select(driver.find_element(By.NAME,'state'))\n",
    "            select.select_by_index(s)\n",
    "            state=select.first_selected_option.text\n",
    "            time.sleep(1)\n",
    "\n",
    "            driver.find_element(By.XPATH,'//*[@id=\"launch\"]/input').click()\n",
    "            time.sleep(10)\n",
    "            driver.find_element(By.PARTIAL_LINK_TEXT,'CSV').click()\n",
    "            time.sleep(10)\n",
    "\n",
    "            name=str(pollutant)+'-'+str(year)+'-'+str(state)\n",
    "            subprocess.run(['mv ../ad_viz_plotval_data.csv DataAQ/{}'.format(name)],shell=True) \n",
    "            print(f'{pollutant}-{year}-{state}')"
   ]
  },
  {
   "cell_type": "code",
   "execution_count": null,
   "metadata": {},
   "outputs": [],
   "source": []
  }
 ],
 "metadata": {
  "kernelspec": {
   "display_name": "TimeSeries",
   "language": "python",
   "name": "python3"
  },
  "language_info": {
   "codemirror_mode": {
    "name": "ipython",
    "version": 3
   },
   "file_extension": ".py",
   "mimetype": "text/x-python",
   "name": "python",
   "nbconvert_exporter": "python",
   "pygments_lexer": "ipython3",
   "version": "3.9.15"
  },
  "orig_nbformat": 4,
  "vscode": {
   "interpreter": {
    "hash": "3c362e28a548e1c7716e964a137da03120734da773b959e25d73340991057aab"
   }
  }
 },
 "nbformat": 4,
 "nbformat_minor": 2
}
