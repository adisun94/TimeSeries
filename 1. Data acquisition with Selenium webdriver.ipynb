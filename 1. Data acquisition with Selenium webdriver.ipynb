{
 "cells": [
  {
   "attachments": {},
   "cell_type": "markdown",
   "metadata": {},
   "source": [
    "## In this notebook, we will use the Selenium webdriver to automatically download air pollution datasets for a particular year and state in the US."
   ]
  },
  {
   "cell_type": "code",
   "execution_count": 1,
   "metadata": {},
   "outputs": [
    {
     "name": "stdout",
     "output_type": "stream",
     "text": [
      "4.8.0\n"
     ]
    }
   ],
   "source": [
    "import selenium as selenium\n",
    "print(selenium.__version__)\n",
    "from selenium import webdriver\n",
    "# from selenium.webdriver.chrome.service import Service as ChromeService\n",
    "# from webdriver_manager.chrome import ChromeDriverManager\n",
    "from selenium.webdriver.edge.service import Service as EdgeService\n",
    "from webdriver_manager.microsoft import EdgeChromiumDriverManager\n",
    "from selenium.webdriver.common.by import By\n",
    "from selenium.webdriver.support import expected_conditions as EC\n",
    "from selenium.webdriver.support.ui import WebDriverWait, Select\n",
    "from selenium.webdriver.common.keys import Keys\n",
    "import subprocess\n",
    "import json\n",
    "import time as time\n",
    "import os\n",
    "import shutil"
   ]
  },
  {
   "attachments": {},
   "cell_type": "markdown",
   "metadata": {},
   "source": [
    "#### Automate web browser operations using the Selenium webdriver"
   ]
  },
  {
   "cell_type": "code",
   "execution_count": 2,
   "metadata": {},
   "outputs": [],
   "source": [
    "# driver = webdriver.Chrome('../chromedriver_linux64/chromedriver')\n",
    "\n",
    "driver = webdriver.Edge(service=EdgeService(EdgeChromiumDriverManager().install()))\n",
    "\n",
    "# For selenium 4, refer to the link to launch the webdriver: https://pypi.org/project/webdriver-manager/"
   ]
  },
  {
   "cell_type": "code",
   "execution_count": 3,
   "metadata": {},
   "outputs": [],
   "source": [
    "driver.get('https://www.epa.gov/outdoor-air-quality-data/download-daily-data')"
   ]
  },
  {
   "cell_type": "code",
   "execution_count": 4,
   "metadata": {},
   "outputs": [
    {
     "name": "stdout",
     "output_type": "stream",
     "text": [
      "['CO', 'Pb', 'NO2', 'Ozone', 'PM10', 'PM2.5', 'SO2']\n"
     ]
    }
   ],
   "source": [
    "f = open('polltant_names.json')\n",
    "print(json.load(f))"
   ]
  },
  {
   "cell_type": "code",
   "execution_count": 5,
   "metadata": {},
   "outputs": [
    {
     "name": "stdout",
     "output_type": "stream",
     "text": [
      "['Alabama', 'Alaska', 'Arizona', 'Arkansas', 'California', 'Colorado', 'Connecticut', 'Delaware', 'District of Columbia', 'Florida', 'Georgia', 'Hawaii', 'Idaho', 'Illinois', 'Indiana', 'Iowa', 'Kansas', 'Kentucky', 'Louisiana', 'Maryland', 'Massachusetts', 'Michigan', 'Minnesota', 'Mississippi', 'Missouri', 'Montana', 'Nebraska', 'Nevada', 'New Hampshire', 'New Jersey', 'New Mexico', 'New York', 'North Carolina', 'Ohio', 'Oklahoma', 'Oregon', 'Pennsylvania', 'Rhode Island', 'South Carolina', 'Tennessee', 'Texas', 'Utah', 'Vermont', 'Virginia', 'Washington', 'West Virginia', 'Wisconsin', 'Puerto Rico']\n"
     ]
    }
   ],
   "source": [
    "f = open('state_names.json')\n",
    "print(json.load(f))"
   ]
  },
  {
   "cell_type": "code",
   "execution_count": 6,
   "metadata": {},
   "outputs": [],
   "source": [
    "selected_pollutant='NO2'\n",
    "selected_state='California'\n",
    "\n",
    "current=os.getcwd()"
   ]
  },
  {
   "cell_type": "code",
   "execution_count": 11,
   "metadata": {},
   "outputs": [
    {
     "name": "stdout",
     "output_type": "stream",
     "text": [
      "directory already exists for selected pollutant and state\n",
      "checking available data (.csv files)\n",
      "\n",
      "data exists for  ['1994', '1995', '1996', '1997', '1998', '1999', '2000', '2001', '2002', '2003', '2004', '2005', '2006', '2007', '2008', '2009', '2010', '2011', '2012', '2013', '2014', '2015', '2016', '2017', '2018', '2019', '2020', '2021', '2022'] \n",
      "\n",
      "Run the following cell to download remaining data (if any) for the selected pollutant and state\n"
     ]
    }
   ],
   "source": [
    "if os.path.exists(os.path.join(current,'DataAQ',selected_pollutant+'-'+selected_state)):\n",
    "    print('directory already exists for selected pollutant and state')\n",
    "    print('checking available data (.csv files)\\n')\n",
    "    yr=[i.split('-')[-1] for i in os.listdir(os.path.join(current,'DataAQ',selected_pollutant+'-'+selected_state))]\n",
    "    print('data exists for ',yr,'\\n')\n",
    "    print('Run the following cell to download remaining data (if any) for the selected pollutant and state')\n",
    "else:\n",
    "    yr=[]\n"
   ]
  },
  {
   "attachments": {},
   "cell_type": "markdown",
   "metadata": {},
   "source": [
    "#### Automatically download and organize the CSV formatted data for the selected pollutant and state, for all available years\n",
    "Data is downloaded to the DataAQ directory"
   ]
  },
  {
   "cell_type": "code",
   "execution_count": 12,
   "metadata": {},
   "outputs": [
    {
     "name": "stdout",
     "output_type": "stream",
     "text": [
      "Data available from 2022 to 1980\n",
      "NO2-1993-California\n",
      "NO2-1992-California\n",
      "NO2-1991-California\n",
      "NO2-1990-California\n",
      "NO2-1989-California\n",
      "NO2-1988-California\n",
      "NO2-1987-California\n",
      "NO2-1986-California\n",
      "NO2-1985-California\n",
      "NO2-1984-California\n",
      "NO2-1983-California\n",
      "NO2-1982-California\n",
      "NO2-1981-California\n",
      "NO2-1980-California\n"
     ]
    }
   ],
   "source": [
    "# This cell will automatically download the CSV formatted data for the selected pollutant and state, for all available years\n",
    "\n",
    "driver.refresh()\n",
    "\n",
    "if not os.path.exists(f'DataAQ/{selected_pollutant}-{selected_state}'):\n",
    "    os.makedirs(f'DataAQ/{selected_pollutant}-{selected_state}')\n",
    "\n",
    "time.sleep(2)\n",
    "\n",
    "select = Select(driver.find_element(By.NAME,'poll'))\n",
    "pollutants=select.options\n",
    "\n",
    "pollutant_names=[]\n",
    "for p in pollutants:\n",
    "    pollutant_names.append(p.text)\n",
    "\n",
    "p_index=pollutant_names.index(selected_pollutant)\n",
    "\n",
    "for p in range(p_index,p_index+1):\n",
    "\n",
    "    select = Select(driver.find_element(By.NAME,'poll'))\n",
    "    select.select_by_index(p)\n",
    "    pollutant=select.first_selected_option.text\n",
    "    time.sleep(2)\n",
    "\n",
    "    select = Select(driver.find_element(By.NAME,'year'))\n",
    "    years=select.options\n",
    "\n",
    "    print(f'Data available from {years[2].text} to {years[-1].text}')\n",
    "\n",
    "    for y in range(2+len(yr),len(years)):\n",
    "\n",
    "        select = Select(driver.find_element(By.NAME,'year'))\n",
    "        select.select_by_index(y)\n",
    "        year=select.first_selected_option.text\n",
    "        time.sleep(2)\n",
    "\n",
    "        select = Select(driver.find_element(By.NAME,'state'))\n",
    "        states=select.options\n",
    "\n",
    "        state_names=[]\n",
    "        for s in states:\n",
    "            state_names.append(s.text)\n",
    "\n",
    "        s_index=state_names.index(selected_state)\n",
    "\n",
    "        for s in range(s_index,s_index+1):\n",
    "\n",
    "            select = Select(driver.find_element(By.NAME,'state'))\n",
    "            select.select_by_index(s)\n",
    "            state=select.first_selected_option.text\n",
    "            time.sleep(2)\n",
    "\n",
    "            driver.find_element(By.XPATH,'//*[@id=\"launch\"]/input').click()  \n",
    "            time.sleep(20)\n",
    "            driver.find_element(By.PARTIAL_LINK_TEXT,'CSV').click()\n",
    "            time.sleep(45)\n",
    "\n",
    "            name=f'{pollutant}-{state}-{year}'\n",
    "            shutil.move(f'../../Downloads/ad_viz_plotval_data.csv',f'DataAQ/{selected_pollutant}-{selected_state}/{name}')\n",
    "            print(f'{pollutant}-{year}-{state}')"
   ]
  },
  {
   "attachments": {},
   "cell_type": "markdown",
   "metadata": {},
   "source": [
    "#### In the next notebook, we will \n",
    "1. Perform data cleaning operations on selected datasets\n",
    "2. Visualize the overall time series data\n",
    "3. Use seasonal decomposition methods to extract the trend and seasonality from the data"
   ]
  },
  {
   "cell_type": "markdown",
   "metadata": {},
   "source": []
  }
 ],
 "metadata": {
  "kernelspec": {
   "display_name": "Python 3",
   "language": "python",
   "name": "python3"
  },
  "language_info": {
   "codemirror_mode": {
    "name": "ipython",
    "version": 3
   },
   "file_extension": ".py",
   "mimetype": "text/x-python",
   "name": "python",
   "nbconvert_exporter": "python",
   "pygments_lexer": "ipython3",
   "version": "3.10.9"
  },
  "orig_nbformat": 4,
  "vscode": {
   "interpreter": {
    "hash": "3075602fe07dfbfad68e36544cfcd65990cacb611b1ced0126e3839888a1e43b"
   }
  }
 },
 "nbformat": 4,
 "nbformat_minor": 2
}
